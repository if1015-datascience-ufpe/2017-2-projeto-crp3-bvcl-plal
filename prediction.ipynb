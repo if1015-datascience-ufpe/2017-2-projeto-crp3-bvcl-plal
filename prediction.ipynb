{
 "cells": [
  {
   "cell_type": "code",
   "execution_count": 1,
   "metadata": {
    "collapsed": true
   },
   "outputs": [],
   "source": [
    "import numpy as np\n",
    "import pandas as pd\n",
    "import matplotlib\n",
    "import matplotlib.pyplot as plt\n",
    "import matplotlib.ticker as mticker\n",
    "from matplotlib.ticker import FormatStrFormatter\n",
    "import seaborn as sns\n",
    "#First Commit"
   ]
  },
  {
   "cell_type": "code",
   "execution_count": 108,
   "metadata": {},
   "outputs": [
    {
     "name": "stdout",
     "output_type": "stream",
     "text": [
      "Automatically created module for IPython interactive environment\n",
      "Feature ranking:\n",
      "1. feature 9 (0.070643)\n",
      "2. feature 3 (0.060250)\n",
      "3. feature 6 (0.057904)\n",
      "4. feature 19 (0.054016)\n",
      "5. feature 0 (0.049957)\n",
      "6. feature 21 (0.049160)\n",
      "7. feature 14 (0.049040)\n",
      "8. feature 4 (0.047459)\n",
      "9. feature 18 (0.045806)\n",
      "10. feature 16 (0.044746)\n",
      "11. feature 2 (0.044376)\n",
      "12. feature 1 (0.044187)\n",
      "13. feature 8 (0.043333)\n",
      "14. feature 10 (0.043079)\n",
      "15. feature 17 (0.042420)\n",
      "16. feature 20 (0.038273)\n",
      "17. feature 11 (0.037720)\n",
      "18. feature 5 (0.037692)\n",
      "19. feature 12 (0.037122)\n",
      "20. feature 15 (0.035325)\n",
      "21. feature 7 (0.035153)\n",
      "22. feature 13 (0.032340)\n"
     ]
    },
    {
     "data": {
      "image/png": "[encoded data removed]",
      "text/plain": [
       "<matplotlib.figure.Figure at 0x7fba3a164550>"
      ]
     },
     "metadata": {},
     "output_type": "display_data"
    }
   ],
   "source": [
    "print(__doc__)\n",
    "\n",
    "import numpy as np\n",
    "import matplotlib.pyplot as plt\n",
    "\n",
    "from sklearn.ensemble import ExtraTreesClassifier\n",
    "df_14_15 = pd.read_csv('season_stats/2014-2015_season_stats.csv')\n",
    "df_15_16 = pd.read_csv('season_stats/2015-2016_season_stats.csv')\n",
    "df_16_17 = pd.read_csv('season_stats/2016-2017_season_stats.csv')\n",
    "\n",
    "dfEast = df_14_15[:15]\n",
    "dfEast2 = df_15_16[:15]\n",
    "dfEast3 = df_16_17[:15]\n",
    "\n",
    "dfWest = df_14_15[15:]\n",
    "dfWest2 = df_15_16[15:]\n",
    "dfWest3 = df_16_17[15:]\n",
    "\n",
    "dfEastFinal = pd.concat([dfEast, dfEast2,dfEast3], ignore_index=True)\n",
    "dfWestFinal = pd.concat([dfWest,dfWest2,dfWest3], ignore_index=True)\n",
    "dfAll = pd.concat([dfWestFinal,dfEastFinal], ignore_index=True)\n",
    "X=[]\n",
    "y=[]\n",
    "#mudar aqui o df para ajustar melhor o modelo à conferencia ou para todos\n",
    "for r in dfAll.itertuples():\n",
    "    aux=[]\n",
    "    for i in range(4,26):\n",
    "        aux.append(r[i])\n",
    "    X.append(aux)\n",
    "    if(r.POS<5):\n",
    "        y.append('top playoff')\n",
    "    elif(r.POS<9):\n",
    "        y.append('bot playoff')\n",
    "    elif(r.POS<12):\n",
    "        y.append('almost playoff')\n",
    "    else:\n",
    "        y.append('worst teams')\n",
    "\n",
    "\n",
    "# Build a forest and compute the feature importances\n",
    "# Change parameter here to change number of forests\n",
    "forest = ExtraTreesClassifier(n_estimators=1000,\n",
    "                              random_state=0)\n",
    "\n",
    "forest.fit(X, y)\n",
    "importances = forest.feature_importances_\n",
    "std = np.std([tree.feature_importances_ for tree in forest.estimators_],\n",
    "             axis=0)\n",
    "indices = np.argsort(importances)[::-1]\n",
    "\n",
    "# Print the feature ranking\n",
    "print(\"Feature ranking:\")\n",
    "\n",
    "for f in range(len(X[0])):\n",
    "    print(\"%d. feature %d (%f)\" % (f + 1, indices[f], importances[indices[f]]))\n",
    "\n",
    "# Plot the feature importances of the forest\n",
    "plt.figure()\n",
    "plt.title(\"Feature importances\")\n",
    "plt.bar(range(len(X[0])), importances[indices],\n",
    "       color=\"r\", yerr=std[indices], align=\"center\")\n",
    "plt.xticks(range(len(X[0])), indices)\n",
    "plt.xlim([-1, len(X[0])])\n",
    "plt.show()\n",
    "\n",
    "# f=forest.predict([[240.0,41.6,86.8,0.479,10.0,25.4,0.395,31.6,61.4,0.514,15.2,19.6,0.774,9.0,33.4,42.4,23.3,8.0,4.6,14.3,18.5,108.4]])\n",
    "# print(f)\n",
    "\n",
    "#lembrar que a contagem abaixo começa em minutes played com esse sendo 0. Minutes played está sendo desconsiderado\n",
    "\n",
    "#Mais importantes para o leste:\n",
    "#50 trees ->(9,19,6,3,10,21)\n",
    "#100 trees ->(9,3,19,6,21,10)\n",
    "#200 trees ->(9,19,6,3,10,21)\n",
    "#500 trees ->(9,19,3,6,10,21)\n",
    "#1000 trees ->(9,19,3,10,6,21)\n",
    "\n",
    "#Mais importantes para o oeste:\n",
    "#50 trees ->(18,4,6,21,10,16)\n",
    "#100 trees ->(18,3,6,9,4,14)\n",
    "#200 trees ->(18,9,3,6,4,14)\n",
    "#500 trees ->(18,9,3,6,16,19)\n",
    "#1000 trees ->(18,9,3,6,16,4)\n",
    "\n",
    "#Mais importantes Gerais:\n",
    "#50 trees ->(9,6,3,21,19,2)\n",
    "#100 trees ->(9,3,6,19,21,4)\n",
    "#200 trees ->(9,6,3,19,4,21)\n",
    "#500 trees ->(9,6,3,19,21,14)\n",
    "#1000 trees ->(9,3,6,19,21,14)\n",
    "\n",
    "#Os que basicamente aparecem como consenso sao 9(2P%), 3(FG%) e 6(3PT%)\n",
    "#Outros como 19(TOV) e 21(PTS) também aparecem bastante\n",
    "\n",
    "#Vale notar a diferença entre as conferências, já que na oeste o 18(BLk) aparece como unanimidade como mais importante\n",
    "#enquanto para a leste ele não aparece nem no top 6. Para outros como 16(AST),14(DRB) e 4(3PT) isso também acontece.\n",
    "#O mesmo se aplica quando se invertem as conferências."
   ]
  },
  {
   "cell_type": "code",
   "execution_count": null,
   "metadata": {
    "collapsed": true
   },
   "outputs": [],
   "source": [
    "#Fazer plot de regressao linear considerando o top 5 ou 6 mais importante de acordo com o random forest\n",
    "#Fazer a tabela que tem p-value,coef,SE e t usando o top5 ou 6 mais importante de acordo com o random forest"
   ]
  }
 ],
 "metadata": {
  "kernelspec": {
   "display_name": "Python 3",
   "language": "python",
   "name": "python3"
  },
  "language_info": {
   "codemirror_mode": {
    "name": "ipython",
    "version": 3
   },
   "file_extension": ".py",
   "mimetype": "text/x-python",
   "name": "python",
   "nbconvert_exporter": "python",
   "pygments_lexer": "ipython3",
   "version": "3.6.1"
  }
 },
 "nbformat": 4,
 "nbformat_minor": 2
}
